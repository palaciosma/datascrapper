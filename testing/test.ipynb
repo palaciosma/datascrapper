{
 "cells": [
  {
   "cell_type": "code",
   "execution_count": 3,
   "id": "01b11ded",
   "metadata": {},
   "outputs": [],
   "source": [
    "import os\n",
    "import base64\n",
    "import requests"
   ]
  },
  {
   "cell_type": "code",
   "execution_count": 41,
   "id": "4614c4a9",
   "metadata": {},
   "outputs": [],
   "source": [
    "url = \"http://localhost:5000/process\""
   ]
  },
  {
   "cell_type": "code",
   "execution_count": 4,
   "id": "05d23780",
   "metadata": {},
   "outputs": [
    {
     "data": {
      "text/plain": [
       "['invoice.pdf']"
      ]
     },
     "execution_count": 4,
     "metadata": {},
     "output_type": "execute_result"
    }
   ],
   "source": [
    "test_file = [f for f in os.listdir() if f.endswith(\".pdf\")]\n",
    "test_file"
   ]
  },
  {
   "cell_type": "code",
   "execution_count": 5,
   "id": "9a733b76",
   "metadata": {},
   "outputs": [],
   "source": [
    "with open(test_file[0], \"rb\") as f:\n",
    "    encoded_file = base64.b64encode(f.read()).decode(\"utf-8\")"
   ]
  },
  {
   "cell_type": "code",
   "execution_count": 42,
   "id": "ac7f4a05",
   "metadata": {},
   "outputs": [],
   "source": [
    "extraction_schema = [\n",
    "    {\"value_name\": \"customer_name\", \"data_type\": \"string\", \"value_description\": \"Name of the customer\"},\n",
    "    {\"value_name\": \"invoice_number\", \"data_type\": \"string\", \"value_description\": \"Invoice number\"},\n",
    "    {\"value_name\": \"total_amount\", \"data_type\": \"float\", \"value_description\": \"Total amount\"}\n",
    "    ]"
   ]
  },
  {
   "cell_type": "code",
   "execution_count": 53,
   "id": "2c9da90b",
   "metadata": {},
   "outputs": [],
   "source": [
    "payload1 = {\n",
    "    \"job_type\": \"analyze\",\n",
    "    \"file_name\": \"test_file.pdf\",\n",
    "    \"file_content\": encoded_file,\n",
    "    \"extraction_schema\": None\n",
    "}\n",
    "\n",
    "payload2 = {\n",
    "    \"job_type\": \"extract\",\n",
    "    \"file_name\": \"test_file.pdf\",\n",
    "    \"file_content\": encoded_file,\n",
    "    \"extraction_schema\": extraction_schema\n",
    "}"
   ]
  },
  {
   "cell_type": "code",
   "execution_count": 54,
   "id": "2894494f",
   "metadata": {},
   "outputs": [],
   "source": [
    "response = requests.post(url, json=payload1)"
   ]
  },
  {
   "cell_type": "code",
   "execution_count": null,
   "id": "72788845",
   "metadata": {},
   "outputs": [
    {
     "data": {
      "text/plain": [
       "{'status': 'success',\n",
       " 'result': '### **Invoice Summary**  \\n\\n- **Invoice Number:** 2025-42536117 (Already Paid)  \\n- **Supplier:** Kiwi.com s.r.o. (Prague, Czech Republic)  \\n- **Issue Date:** 2025-04-07 | **Due Date:** 2025-04-17  \\n- **Customer:** Miguel Angel Palacios Candelario (Majadahonda, Spain)  \\n- **Currency:** GBP  \\n\\n#### **Flight & Service Details:**  \\n- **Outbound Flight:** London → Barcelona (2025-05-14) – **£27.84**  \\n- **Return Flight:** Barcelona → London (2025-05-19) – **£54.72**  \\n- **Service Fee:** £8.67  \\n- **Included Extras:** Hand Baggage (10 kg, both flights) – **£0.00**  \\n\\n#### **Total Amount:**  \\n- **Subtotal:** £91.23  \\n- **Tax:** £0.00  \\n- **Final Total:** **£91.23**  \\n\\n**Note:** This invoice has already been paid; no further action is required.  \\n\\n---  \\n**Kiwi.com s.r.o. Registration:**  \\n- Company ID: 29352886 | VAT ID: CZ29352886  \\n- More info: [https://www.kiwi.com](https://www.kiwi.com)'}"
      ]
     },
     "execution_count": 55,
     "metadata": {},
     "output_type": "execute_result"
    }
   ],
   "source": [
    "response.json() #"
   ]
  }
 ],
 "metadata": {
  "kernelspec": {
   "display_name": "venv",
   "language": "python",
   "name": "python3"
  },
  "language_info": {
   "codemirror_mode": {
    "name": "ipython",
    "version": 3
   },
   "file_extension": ".py",
   "mimetype": "text/x-python",
   "name": "python",
   "nbconvert_exporter": "python",
   "pygments_lexer": "ipython3",
   "version": "3.11.0"
  }
 },
 "nbformat": 4,
 "nbformat_minor": 5
}
