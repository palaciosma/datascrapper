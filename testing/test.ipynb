{
 "cells": [
  {
   "cell_type": "code",
   "execution_count": 3,
   "id": "01b11ded",
   "metadata": {},
   "outputs": [],
   "source": [
    "import os\n",
    "import base64\n",
    "import requests"
   ]
  },
  {
   "cell_type": "code",
   "execution_count": 41,
   "id": "4614c4a9",
   "metadata": {},
   "outputs": [],
   "source": [
    "url = \"http://localhost:5000/process\""
   ]
  },
  {
   "cell_type": "code",
   "execution_count": 4,
   "id": "05d23780",
   "metadata": {},
   "outputs": [
    {
     "data": {
      "text/plain": [
       "['invoice.pdf']"
      ]
     },
     "execution_count": 4,
     "metadata": {},
     "output_type": "execute_result"
    }
   ],
   "source": [
    "test_file = [f for f in os.listdir() if f.endswith(\".pdf\")]\n",
    "test_file"
   ]
  },
  {
   "cell_type": "code",
   "execution_count": 5,
   "id": "9a733b76",
   "metadata": {},
   "outputs": [],
   "source": [
    "with open(test_file[0], \"rb\") as f:\n",
    "    encoded_file = base64.b64encode(f.read()).decode(\"utf-8\")"
   ]
  },
  {
   "cell_type": "code",
   "execution_count": 42,
   "id": "ac7f4a05",
   "metadata": {},
   "outputs": [],
   "source": [
    "extraction_schema = [\n",
    "    {\"value_name\": \"customer_name\", \"data_type\": \"string\", \"value_description\": \"Name of the customer\"},\n",
    "    {\"value_name\": \"invoice_number\", \"data_type\": \"string\", \"value_description\": \"Invoice number\"},\n",
    "    {\"value_name\": \"total_amount\", \"data_type\": \"float\", \"value_description\": \"Total amount\"}\n",
    "    ]"
   ]
  },
  {
   "cell_type": "code",
   "execution_count": null,
   "id": "2c9da90b",
   "metadata": {},
   "outputs": [],
   "source": [
    "payload1 = {\n",
    "    \"job_type\": \"analyze\",\n",
    "    \"file_name\": \"test_file.pdf\",\n",
    "    \"file_content\": encoded_file,\n",
    "    \"extraction_schema\": None\n",
    "}\n",
    "\n",
    "payload2 = {\n",
    "    \"job_type\": \"extract\",\n",
    "    \"file_name\": \"test_file.pdf\",\n",
    "    \"file_content\": encoded_file,\n",
    "    \"extraction_schema\": extraction_schema\n",
    "}"
   ]
  },
  {
   "cell_type": "code",
   "execution_count": 51,
   "id": "2894494f",
   "metadata": {},
   "outputs": [],
   "source": [
    "response = requests.post(url, json=payload1)"
   ]
  },
  {
   "cell_type": "code",
   "execution_count": 46,
   "id": "72788845",
   "metadata": {},
   "outputs": [
    {
     "data": {
      "text/plain": [
       "{'status': 'success',\n",
       " 'result': {'customer_name': 'Miguel Angel Palacios Candelario',\n",
       "  'invoice_number': '2025-42536117',\n",
       "  'total_amount': 91.23}}"
      ]
     },
     "execution_count": 46,
     "metadata": {},
     "output_type": "execute_result"
    }
   ],
   "source": [
    "response.json()"
   ]
  }
 ],
 "metadata": {
  "kernelspec": {
   "display_name": "venv",
   "language": "python",
   "name": "python3"
  },
  "language_info": {
   "codemirror_mode": {
    "name": "ipython",
    "version": 3
   },
   "file_extension": ".py",
   "mimetype": "text/x-python",
   "name": "python",
   "nbconvert_exporter": "python",
   "pygments_lexer": "ipython3",
   "version": "3.11.0"
  }
 },
 "nbformat": 4,
 "nbformat_minor": 5
}
